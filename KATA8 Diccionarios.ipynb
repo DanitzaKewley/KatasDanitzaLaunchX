{
 "cells": [
  {
   "cell_type": "markdown",
   "metadata": {},
   "source": [
    "Introduccion a Diccionarios en python"
   ]
  },
  {
   "cell_type": "code",
   "execution_count": 56,
   "metadata": {},
   "outputs": [],
   "source": [
    "#Creación de diccionario\n",
    "planet = {\n",
    "    'name': 'Earth',\n",
    "    'moons': 1\n",
    "}"
   ]
  },
  {
   "cell_type": "code",
   "execution_count": 57,
   "metadata": {},
   "outputs": [
    {
     "name": "stdout",
     "output_type": "stream",
     "text": [
      "Earth\n"
     ]
    }
   ],
   "source": [
    "#Accedet a un valor\n",
    "print(planet.get('name'))"
   ]
  },
  {
   "cell_type": "code",
   "execution_count": 58,
   "metadata": {},
   "outputs": [
    {
     "name": "stdout",
     "output_type": "stream",
     "text": [
      "Earth\n"
     ]
    }
   ],
   "source": [
    "# planet['name'] es idéntico a usar planet.get('name')\n",
    "print(planet['name'])"
   ]
  },
  {
   "cell_type": "code",
   "execution_count": 59,
   "metadata": {},
   "outputs": [
    {
     "ename": "KeyError",
     "evalue": "'wibble'",
     "output_type": "error",
     "traceback": [
      "\u001b[1;31m---------------------------------------------------------------------------\u001b[0m",
      "\u001b[1;31mKeyError\u001b[0m                                  Traceback (most recent call last)",
      "\u001b[1;32mc:\\Users\\DANY\\Desktop\\LAUNCHX\\ONBOARDING\\OnBoardingLaunchX\\Módulo 8 - Administrar datos con diccionarios\\Diccionarios.ipynb Cell 5'\u001b[0m in \u001b[0;36m<module>\u001b[1;34m\u001b[0m\n\u001b[0;32m      <a href='vscode-notebook-cell:/c%3A/Users/DANY/Desktop/LAUNCHX/ONBOARDING/OnBoardingLaunchX/M%C3%B3dulo%208%20-%20Administrar%20datos%20con%20diccionarios/Diccionarios.ipynb#ch0000005?line=0'>1</a>\u001b[0m \u001b[39m#Que pasa si un dato no esta disponible\u001b[39;00m\n\u001b[0;32m      <a href='vscode-notebook-cell:/c%3A/Users/DANY/Desktop/LAUNCHX/ONBOARDING/OnBoardingLaunchX/M%C3%B3dulo%208%20-%20Administrar%20datos%20con%20diccionarios/Diccionarios.ipynb#ch0000005?line=1'>2</a>\u001b[0m wibble \u001b[39m=\u001b[39m planet\u001b[39m.\u001b[39mget(\u001b[39m'\u001b[39m\u001b[39mwibble\u001b[39m\u001b[39m'\u001b[39m) \u001b[39m# Regresa None\u001b[39;00m\n\u001b[1;32m----> <a href='vscode-notebook-cell:/c%3A/Users/DANY/Desktop/LAUNCHX/ONBOARDING/OnBoardingLaunchX/M%C3%B3dulo%208%20-%20Administrar%20datos%20con%20diccionarios/Diccionarios.ipynb#ch0000005?line=2'>3</a>\u001b[0m wibble \u001b[39m=\u001b[39m planet[\u001b[39m'\u001b[39;49m\u001b[39mwibble\u001b[39;49m\u001b[39m'\u001b[39;49m]\n",
      "\u001b[1;31mKeyError\u001b[0m: 'wibble'"
     ]
    }
   ],
   "source": [
    "#Que pasa si un dato no esta disponible\n",
    "wibble = planet.get('wibble') # Regresa None\n",
    "wibble = planet['wibble'] # Arroja un KeyError"
   ]
  },
  {
   "cell_type": "code",
   "execution_count": 60,
   "metadata": {},
   "outputs": [],
   "source": [
    "#Modificar un valor\n",
    "planet.update({'name': 'Makemake'})"
   ]
  },
  {
   "cell_type": "code",
   "execution_count": 61,
   "metadata": {},
   "outputs": [],
   "source": [
    "#planet['name'] = 'Makemake' es identico a planet.update({'name': 'Makemake'})\n",
    "planet['name'] = 'Makemake'"
   ]
  },
  {
   "cell_type": "code",
   "execution_count": 62,
   "metadata": {},
   "outputs": [],
   "source": [
    "# Usando update\n",
    "planet.update({\n",
    "    'name': 'Jupiter',\n",
    "    'moons': 79\n",
    "})\n",
    "\n",
    "# Usando corchetes\n",
    "planet['name'] = 'Jupiter'\n",
    "planet['moons'] = 79"
   ]
  },
  {
   "cell_type": "code",
   "execution_count": 63,
   "metadata": {},
   "outputs": [
    {
     "data": {
      "text/plain": [
       "4333"
      ]
     },
     "execution_count": 63,
     "metadata": {},
     "output_type": "execute_result"
    }
   ],
   "source": [
    "#Adición y eliminación de claves(elementos a un diccionario)\n",
    "#Añadir\n",
    "planet['orbital period'] = 4333\n",
    "\n",
    "# el diccionario planet ahora contiene: {\n",
    "#   name: 'jupiter'\n",
    "#   moons: 79\n",
    "#   orbital period: 4333\n",
    "# }\n",
    "\n",
    "#Eliminar\n",
    "planet.pop('orbital period')\n",
    "\n",
    "# el diccionario planet ahora contiene: {\n",
    "#   name: 'jupiter'\n",
    "#   moons: 79\n",
    "# }"
   ]
  },
  {
   "cell_type": "code",
   "execution_count": 65,
   "metadata": {},
   "outputs": [],
   "source": [
    "#Data compleja\n",
    "# Añadimos los datos\n",
    "planet['diameter (km)'] = {\n",
    "    'polar': 133709,\n",
    "    'equatorial': 142984\n",
    "}\n",
    "\n",
    "# el diccionario planet ahora contiene: {\n",
    "#   name: 'Jupiter'\n",
    "#   moons: 79\n",
    "#   diameter (km): {\n",
    "#      polar: 133709\n",
    "#      equatorial: 142984\n",
    "#   }\n",
    "# }"
   ]
  },
  {
   "cell_type": "code",
   "execution_count": 72,
   "metadata": {},
   "outputs": [
    {
     "name": "stdout",
     "output_type": "stream",
     "text": [
      "Jupiter polar diameter: 133709\n"
     ]
    }
   ],
   "source": [
    "#Recuperar valores\n",
    "print(f'{planet[\"name\"]} polar diameter: {planet[\"diameter (km)\"][\"polar\"]}')\n",
    "\n",
    "# Salida: Jupiter polar diameter: 133709"
   ]
  },
  {
   "cell_type": "markdown",
   "metadata": {},
   "source": [
    "Programación dinámica con diccionarios"
   ]
  },
  {
   "cell_type": "code",
   "execution_count": 52,
   "metadata": {},
   "outputs": [
    {
     "name": "stdout",
     "output_type": "stream",
     "text": [
      "october: 3.5cm\n",
      "november: 4.2cm\n",
      "december: 2.1cm\n"
     ]
    }
   ],
   "source": [
    "#Recuperación de todas las claves y valores\n",
    "rainfall = {\n",
    "    'october': 3.5,\n",
    "    'november': 4.2,\n",
    "    'december': 2.1\n",
    "}\n",
    "\n",
    "for key in rainfall.keys():\n",
    "    print(f'{key}: {rainfall[key]}cm')\n",
    "\n",
    "# Salida:\n",
    "# october: 3.5cm\n",
    "# november: 4.2cm\n",
    "# december: 2.1cm"
   ]
  },
  {
   "cell_type": "code",
   "execution_count": 54,
   "metadata": {},
   "outputs": [],
   "source": [
    "#Determinando la existencia de una clave en un diccionario\n",
    "# El valor de december: 2.1cm\n",
    "\n",
    "# Si, 'december' existe en rainfall\n",
    "if 'december' in rainfall:\n",
    "    # rainfall [en la posición december] es igual a\n",
    "    # rainfall [en la posición december] + 1 (2.1+1)\n",
    "    rainfall['december'] = rainfall['december'] + 1\n",
    "\n",
    "# Si no:\n",
    "else:\n",
    "\n",
    "    # rainfall [en la posición december] es igual a 1\n",
    "    rainfall['december'] = 1\n",
    "\n",
    "# Como december si existe, el valor será 3.1"
   ]
  },
  {
   "cell_type": "code",
   "execution_count": 55,
   "metadata": {},
   "outputs": [
    {
     "name": "stdout",
     "output_type": "stream",
     "text": [
      "There was 10.8cm in the last quarter\n"
     ]
    }
   ],
   "source": [
    "#Recuperar todos los valores de un diccionario\n",
    "#Total de precipitaciones 0\n",
    "total_rainfall = 0\n",
    "\n",
    "# Para cada valor en los valores de rainfall\n",
    "for value in rainfall.values():\n",
    "    \n",
    "    # El total de las precipitaciones será igual a ese mismo + el valor que se está iterando\n",
    "\n",
    "    total_rainfall = total_rainfall + value\n",
    "\n",
    "# Muestra 'Hay un total de precipitaciones (el valor total) en centímetros en el último cuarto (haciendo referencia al cuarto del año)\n",
    "\n",
    "print(f'There was {total_rainfall}cm in the last quarter')\n",
    "\n",
    "# Salida:\n",
    "# There was 10.8cm in the last quarter"
   ]
  }
 ],
 "metadata": {
  "interpreter": {
   "hash": "fd0c8bb1aa8bcc42daf6bd09373081b45fa20a780b4f92abaf48963b33c0cbff"
  },
  "kernelspec": {
   "display_name": "Python 3.10.2 64-bit (windows store)",
   "language": "python",
   "name": "python3"
  },
  "language_info": {
   "codemirror_mode": {
    "name": "ipython",
    "version": 3
   },
   "file_extension": ".py",
   "mimetype": "text/x-python",
   "name": "python",
   "nbconvert_exporter": "python",
   "pygments_lexer": "ipython3",
   "version": "3.10.2"
  },
  "orig_nbformat": 4
 },
 "nbformat": 4,
 "nbformat_minor": 2
}
