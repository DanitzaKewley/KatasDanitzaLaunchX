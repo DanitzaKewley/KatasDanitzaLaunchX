{
 "cells": [
  {
   "cell_type": "markdown",
   "metadata": {},
   "source": [
    "Escribir declaraciones if, else, y elif"
   ]
  },
  {
   "cell_type": "code",
   "execution_count": 3,
   "metadata": {},
   "outputs": [
    {
     "name": "stdout",
     "output_type": "stream",
     "text": [
      "Todo normal, sigue con tu día\n"
     ]
    }
   ],
   "source": [
    "# Añadir el código necesario para crear una variable que guarde la velocidad del asteroide.\n",
    "# Escribe una expresión de prueba para calcular si necesita una advertencia.\n",
    "# Agregue las instrucciones que se ejecutarán si la expresión de prueba es true o false.\n",
    "asteroide = 49\n",
    "if asteroide <= 25:\n",
    "    print ('Advertencia asteroide acercandose')\n",
    "else:\n",
    "    print ('Todo normal, sigue con tu día')"
   ]
  },
  {
   "cell_type": "code",
   "execution_count": 4,
   "metadata": {},
   "outputs": [
    {
     "name": "stdout",
     "output_type": "stream",
     "text": [
      "No hay luces en el cielo\n"
     ]
    }
   ],
   "source": [
    "# Agrega el código para crear una variable para un asteroide que viaja a 19 km/s\n",
    "# Escribe varias expresiones de prueba para determinar si puedes ver el rayo de luz desde la tierra\n",
    "# Agrega las instrucciones que se ejecutarán si las expresiones de prueba son True o False\n",
    "asteroide = 19\n",
    "if asteroide > 20:\n",
    "    print ('Mira el cielo, hay un asteroide cerca que produce una luz')\n",
    "elif asteroide == 20:\n",
    "    print ('Mira el cielo, hay un asteroide cerca que produce una luz')\n",
    "else:\n",
    "    print ('No hay luces en el cielo')"
   ]
  },
  {
   "cell_type": "markdown",
   "metadata": {},
   "source": [
    "Uso de operadores and y or"
   ]
  },
  {
   "cell_type": "code",
   "execution_count": 6,
   "metadata": {},
   "outputs": [
    {
     "name": "stdout",
     "output_type": "stream",
     "text": [
      "Advertencia asteroide acercandose\n"
     ]
    }
   ],
   "source": [
    "# Agrega el código para crear nuevas variables para la velocidad y el tamaño del asteroide\n",
    "# Para probar el código, prueba con varias velocidades y tamaños\n",
    "# Escribe varias expresiones de prueba o combinaciones de expresiones de prueba para determinar qué mensaje se debe enviar a Tierra.\n",
    "velocidad_asteroide = 25\n",
    "tamaño_asteroide = 50\n",
    "if velocidad_asteroide >= 25 and tamaño_asteroide > 25:\n",
    "    print ('Advertencia asteroide acercandose')\n",
    "elif velocidad_asteroide >= 20:\n",
    "    print ('Mira el cielo, hay un asteroide cerca que produce una luz')\n",
    "elif tamaño_asteroide < 25 or velocidad_asteroide < 20:\n",
    "    print ('Sigue con tu día')\n",
    "else:\n",
    "    print ('Todo normal, sigue con tu día')"
   ]
  },
  {
   "cell_type": "code",
   "execution_count": 7,
   "metadata": {},
   "outputs": [
    {
     "name": "stdout",
     "output_type": "stream",
     "text": [
      "Mira el cielo, hay un asteroide cerca que produce una luz\n"
     ]
    }
   ],
   "source": [
    "velocidad_asteroide = 25\n",
    "tamaño_asteroide = 10\n",
    "if velocidad_asteroide >= 25 and tamaño_asteroide > 25:\n",
    "    print ('Advertencia asteroide acercandose')\n",
    "elif velocidad_asteroide >= 20:\n",
    "    print ('Mira el cielo, hay un asteroide cerca que produce una luz')\n",
    "elif tamaño_asteroide < 25 or velocidad_asteroide < 20:\n",
    "    print ('Sigue con tu día')\n",
    "else:\n",
    "    print ('Todo normal, sigue con tu día')"
   ]
  },
  {
   "cell_type": "code",
   "execution_count": 8,
   "metadata": {},
   "outputs": [
    {
     "name": "stdout",
     "output_type": "stream",
     "text": [
      "Sigue con tu día\n"
     ]
    }
   ],
   "source": [
    "velocidad_asteroide = 15\n",
    "tamaño_asteroide = 10\n",
    "if velocidad_asteroide >= 25 and tamaño_asteroide > 25:\n",
    "    print ('Advertencia asteroide acercandose')\n",
    "elif velocidad_asteroide >= 20:\n",
    "    print ('Mira el cielo, hay un asteroide cerca que produce una luz')\n",
    "elif tamaño_asteroide < 25 or velocidad_asteroide < 20:\n",
    "    print ('Sigue con tu día')\n",
    "else:\n",
    "    print ('Todo normal, sigue con tu día')"
   ]
  }
 ],
 "metadata": {
  "interpreter": {
   "hash": "90eff928d845a0ac940e77c8eeee546f720ac73f2a8de4b57efbb48356686e85"
  },
  "kernelspec": {
   "display_name": "Python 3.10.2 64-bit",
   "language": "python",
   "name": "python3"
  },
  "language_info": {
   "codemirror_mode": {
    "name": "ipython",
    "version": 3
   },
   "file_extension": ".py",
   "mimetype": "text/x-python",
   "name": "python",
   "nbconvert_exporter": "python",
   "pygments_lexer": "ipython3",
   "version": "3.10.2"
  },
  "orig_nbformat": 4
 },
 "nbformat": 4,
 "nbformat_minor": 2
}
