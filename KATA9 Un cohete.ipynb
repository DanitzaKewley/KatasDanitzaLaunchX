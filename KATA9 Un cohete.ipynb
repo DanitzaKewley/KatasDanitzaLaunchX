{
 "cells": [
  {
   "cell_type": "markdown",
   "metadata": {},
   "source": [
    "Trabajar con argumentos en funciones"
   ]
  },
  {
   "cell_type": "code",
   "execution_count": 4,
   "metadata": {},
   "outputs": [],
   "source": [
    "# Función para leer 3 tanques de combustible y muestre el promedio\n",
    "def report(tank1, tank2, tank3):\n",
    "    average = (tank1 + tank2 + tank3) / 3\n",
    "    return f\"\"\"Fuel Report:\n",
    "    Average: {average}%\n",
    "    Tank1: {tank1}%\n",
    "    Tank2: {tank2}%\n",
    "    Tank3: {tank3}%\n",
    "    \"\"\"\n"
   ]
  },
  {
   "cell_type": "code",
   "execution_count": 6,
   "metadata": {},
   "outputs": [
    {
     "name": "stdout",
     "output_type": "stream",
     "text": [
      "Fuel Report:\n",
      "    Average: 88.33333333333333%\n",
      "    Tank1: 90%\n",
      "    Tank2: 95%\n",
      "    Tank3: 80%\n",
      "    \n"
     ]
    }
   ],
   "source": [
    "#Llamamos a la función que genera el reporte print(funcion(tanque1, tanque2, tanque3))\n",
    "print(report(90, 95, 80))"
   ]
  },
  {
   "cell_type": "code",
   "execution_count": 8,
   "metadata": {},
   "outputs": [
    {
     "data": {
      "text/plain": [
       "88.33333333333333"
      ]
     },
     "execution_count": 8,
     "metadata": {},
     "output_type": "execute_result"
    }
   ],
   "source": [
    "# Función promedio\n",
    "def average(values):\n",
    "    total=sum(values)\n",
    "    number_items= len(values)\n",
    "    return total / number_items\n",
    "\n",
    "#Prueba\n",
    "average ([90,95,80]) "
   ]
  },
  {
   "cell_type": "code",
   "execution_count": 10,
   "metadata": {},
   "outputs": [
    {
     "name": "stdout",
     "output_type": "stream",
     "text": [
      "Fuel Report:\n",
      "    Average: 66.0%\n",
      "    Tank1: 88%\n",
      "    Tank2: 66%\n",
      "    Tank3: 44%\n",
      "    \n"
     ]
    }
   ],
   "source": [
    "# Actualiza la función\n",
    "def report (tank1, tank2, tank3):\n",
    "    return f\"\"\"Fuel Report:\n",
    "    Average: {average([tank1,tank2,tank3])}%\n",
    "    Tank1: {tank1}%\n",
    "    Tank2: {tank2}%\n",
    "    Tank3: {tank3}%\n",
    "    \"\"\"\n",
    "\n",
    "#Llamamos la funcion\n",
    "print(report(88,66,44))"
   ]
  },
  {
   "cell_type": "markdown",
   "metadata": {},
   "source": [
    "Trabajar con argumentos de palabras clave en funciones"
   ]
  },
  {
   "cell_type": "code",
   "execution_count": 12,
   "metadata": {},
   "outputs": [
    {
     "name": "stdout",
     "output_type": "stream",
     "text": [
      "\n",
      "    Mission to Mars\n",
      "    Travel time: 130 minutes\n",
      "    Fuel left: 183445 gallons\n",
      "    \n"
     ]
    }
   ],
   "source": [
    "# Función con un informe preciso de la misión. Considera hora de prelanzamiento, tiempo de vuelo, destino, tanque externo y tanque interno\n",
    "def report (pre_launch, flight_time, destination, external_tank, main_tank):\n",
    "    return f\"\"\"\n",
    "    Mission to {destination}\n",
    "    Travel time: {pre_launch + flight_time} minutes\n",
    "    Fuel left: {external_tank + main_tank} gallons\n",
    "    \"\"\"\n",
    "\n",
    "print(report (96, 34, \"Mars\", 99998, 83447))"
   ]
  },
  {
   "cell_type": "code",
   "execution_count": 20,
   "metadata": {},
   "outputs": [
    {
     "name": "stdout",
     "output_type": "stream",
     "text": [
      "\n",
      "    Mission to Mars\n",
      "    Travel time: 130 minutes\n",
      "    Fuel left: 183445 gallons\n",
      "    \n"
     ]
    }
   ],
   "source": [
    "# Escribe tu nueva función de reporte considerando lo anterior\n",
    "def report (destination, *minutes, **fuel_reservoirs):\n",
    "    return f\"\"\"\n",
    "    Mission to {destination}\n",
    "    Travel time: {sum(minutes)} minutes\n",
    "    Fuel left: {sum(fuel_reservoirs.values())} gallons\n",
    "    \"\"\"\n",
    "\n",
    "print (report(\"Mars\", 96, 34, main= 83447, external= 99998))"
   ]
  },
  {
   "cell_type": "code",
   "execution_count": 22,
   "metadata": {},
   "outputs": [
    {
     "name": "stdout",
     "output_type": "stream",
     "text": [
      "\n",
      "    Mission to Mars\n",
      "    Total travel time: 130 minutes\n",
      "    Total fuel left: 183445 gallons\n",
      "    main tank --> 83447 gallons left\n",
      "external tank --> 99998 gallons left\n",
      "\n"
     ]
    }
   ],
   "source": [
    "# Escribe tu nueva función\n",
    "def report(destination, *minutes, **fuel_reservoirs):\n",
    "    Report = f\"\"\"\n",
    "    Mission to {destination}\n",
    "    Total travel time: {sum(minutes)} minutes\n",
    "    Total fuel left: {sum(fuel_reservoirs.values())} gallons\n",
    "    \"\"\"\n",
    "    for tank_name, gallons in fuel_reservoirs.items():\n",
    "        Report += f\"{tank_name} tank --> {gallons} gallons left\\n\"\n",
    "    return Report\n",
    "\n",
    "print(report(\"Mars\", 96, 34, main = 83447, external = 99998))\n"
   ]
  }
 ],
 "metadata": {
  "interpreter": {
   "hash": "fd0c8bb1aa8bcc42daf6bd09373081b45fa20a780b4f92abaf48963b33c0cbff"
  },
  "kernelspec": {
   "display_name": "Python 3.10.2 64-bit (windows store)",
   "language": "python",
   "name": "python3"
  },
  "language_info": {
   "codemirror_mode": {
    "name": "ipython",
    "version": 3
   },
   "file_extension": ".py",
   "mimetype": "text/x-python",
   "name": "python",
   "nbconvert_exporter": "python",
   "pygments_lexer": "ipython3",
   "version": "3.10.2"
  },
  "orig_nbformat": 4
 },
 "nbformat": 4,
 "nbformat_minor": 2
}
